{
 "cells": [
  {
   "cell_type": "code",
   "execution_count": 1,
   "metadata": {},
   "outputs": [],
   "source": [
    "############################################################################################################################\n",
    "## Script: AGOLSQLSync.py\n",
    "## Author: Jeremy Mullins, Derek Morgan\n",
    "## Date:\n",
    "##\n",
    "## Description:\n",
    "##        This script is the test script for syncing data between ArcGIS Online\n",
    "##        and an MS SQL Server database.\n",
    "##\n",
    "## Required prerequisites:\n",
    "##        - ArcGIS API for Python\n",
    "##            (https://developers.arcgis.com/python/)\n",
    "##\n",
    "##        - pyodbc Module\n",
    "##            (https://github.com/mkleehammer/pyodbc)\n",
    "##                to install after download, open Python command\n",
    "##                prompt and type the following:\n",
    "##                    -- conda install pyodbc  --\n",
    "##\n",
    "##        - MS ODBC Driver for SQL Server (v17)\n",
    "##            (https://docs.microsoft.com/en-us/sql/connect/odbc/download-odbc-driver-for-sql-server?view=sql-server-2017)\n",
    "##\n",
    "############################################################################################################################"
   ]
  },
  {
   "cell_type": "code",
   "execution_count": 2,
   "metadata": {},
   "outputs": [],
   "source": [
    "# import all necessary modules\n",
    "from arcgis.gis import GIS\n",
    "import pyodbc as sql\n",
    "import pandas as pd\n",
    "import configparser\n",
    "import zipfile\n",
    "import arcpy\n",
    "import sys\n",
    "import os"
   ]
  },
  {
   "cell_type": "code",
   "execution_count": 3,
   "metadata": {},
   "outputs": [],
   "source": [
    "#read config file\n",
    "config = configparser.ConfigParser()\n",
    "config.read('config_jm.ini')\n",
    "\n",
    "# assign config variables\n",
    "agolURL = config['AGOL']['URL']\n",
    "agolUSER = config['AGOL']['USER']\n",
    "agolPW = config['AGOL']['PW']\n",
    "sqlDRVR = config['SQL']['SQLDRVR']\n",
    "sqlSERV = config['SQL']['SERVER']\n",
    "sqlDB = config['SQL']['DB']\n",
    "sqlUSER = config['SQL']['USER']\n",
    "sqlPW = config['SQL']['PW']\n",
    "iD = config['SCRIPT']['itemID']\n",
    "csvNAME = config['SCRIPT']['csvTITLE']\n",
    "csvLOC = config['SCRIPT']['csvLOC']\n",
    "zipLOC = config['SCRIPT']['zipLOC']\n",
    "csvDOC = config['SCRIPT']['csvDOC']\n",
    "newTEMP1 = config['SCRIPT']['newTEMP1']\n",
    "newTEMP2 = config['SCRIPT']['newTEMP2']\n",
    "csv2TEMP = config['SCRIPT']['csv2TEMP']\n",
    "newINS1 = config['SCRIPT']['newINS1']\n",
    "newINS2 = config['SCRIPT']['newINS2']\n",
    "SQL2CSV = config['SCRIPT']['SQL2CSV']\n",
    "sql2CSVout = config['SCRIPT']['sql2CSVout']\n",
    "delTEMP1 = config['SCRIPT']['delTEMP1']\n",
    "delTEMP2 = config['SCRIPT']['delTEMP2']"
   ]
  },
  {
   "cell_type": "code",
   "execution_count": 4,
   "metadata": {},
   "outputs": [],
   "source": [
    "#Sign into AGOL acct\n",
    "gis = GIS(agolURL,agolUSER,agolPW)\n",
    "\n",
    "#Get feature layer in question\n",
    "featureLayer = gis.content.get(iD)"
   ]
  },
  {
   "cell_type": "code",
   "execution_count": 5,
   "metadata": {},
   "outputs": [],
   "source": [
    "#Export feature layer as CSV (ZIP file)\n",
    "output_file = featureLayer.export(title=csvNAME,export_format=\"CSV\")\n",
    "output_file.download(csvLOC)\n",
    "\n",
    "#Unzip downloaded ZIP folder containing feature layer as CSV\n",
    "zip_ref = zipfile.ZipFile(zipLOC,'r')\n",
    "zip_ref.extractall(csvLOC)\n",
    "zip_ref.close()\n",
    "\n",
    "#Delete ZIP folder on disk and CSV collection file in AGOL\n",
    "os.remove(zipLOC)\n",
    "output_file.delete()\n",
    "\n",
    "#Read CSV using panda; replace NaNs with '000'\n",
    "df = pd.read_csv(csvDOC)\n",
    "df.fillna('000',inplace=True)"
   ]
  },
  {
   "cell_type": "code",
   "execution_count": 6,
   "metadata": {},
   "outputs": [],
   "source": [
    "#Connect to SQL db and assign cursor\n",
    "conn = sql.connect('Driver='+sqlDRVR+';'\n",
    "                      'Server='+sqlSERV+';'\n",
    "                      'Database='+sqlDB+';'\n",
    "                      'trusted_connection=yes;'\n",
    "                      'UID='+sqlUSER+';'\n",
    "                      'PWD='+sqlPW+';')\n",
    "cursor = conn.cursor()\n",
    "\n",
    "#Create temporary tables in SQL db\n",
    "cursor.execute(newTEMP1)\n",
    "cursor.commit()\n",
    "\n",
    "cursor.execute(newTEMP2)\n",
    "cursor.commit()\n",
    "\n",
    "#Insert CSV into temporary table\n",
    "for index,row in df.iterrows():\n",
    "    cursor.execute(csv2TEMP,row['OBJECTID'],\n",
    "                   row['Building Identifier'],\n",
    "                   row['Description'],\n",
    "                   row['Classrooms'],\n",
    "                   row['TypeCode'],\n",
    "                   row['GlobalID'])\n",
    "cursor.commit()\n",
    "\n",
    "#Compare tables and look for non-duplicated GlobalIDs\n",
    "cursor.execute(newINS1)\n",
    "cursor.commit()"
   ]
  },
  {
   "cell_type": "code",
   "execution_count": 7,
   "metadata": {},
   "outputs": [],
   "source": [
    "#Compare tables and look for any updated records in prod table\n",
    "cursor.execute(newINS2)\n",
    "cursor.commit()\n",
    "\n",
    "#Export SQL data to CSV\n",
    "outCSVscript = SQL2CSV\n",
    "df2 = pd.read_sql_query(outCSVscript,conn)\n",
    "df2.to_csv(sql2CSVout)\n",
    "\n",
    "#https://stackoverflow.com/questions/\n",
    "#     18977387/how-to-export-sql-server-result-to-excel-in-python\n",
    "#https://datatofish.com/export-dataframe-to-csv/"
   ]
  },
  {
   "cell_type": "code",
   "execution_count": 8,
   "metadata": {},
   "outputs": [],
   "source": [
    "#Delete temporary table\n",
    "cursor.execute(delTEMP1)\n",
    "cursor.commit()\n",
    "\n",
    "cursor.execute(delTEMP2)\n",
    "cursor.commit()"
   ]
  },
  {
   "cell_type": "code",
   "execution_count": 9,
   "metadata": {},
   "outputs": [],
   "source": [
    "#Close and delete cursor; close SQL db connection\n",
    "cursor.close()\n",
    "del cursor\n",
    "conn.close()\n",
    "\n",
    "#Remove AGOL CSV\n",
    "os.remove(csvDOC)"
   ]
  },
  {
   "cell_type": "code",
   "execution_count": null,
   "metadata": {},
   "outputs": [],
   "source": []
  }
 ],
 "metadata": {
  "kernelspec": {
   "display_name": "Python 3",
   "language": "python",
   "name": "python3"
  },
  "language_info": {
   "codemirror_mode": {
    "name": "ipython",
    "version": 3
   },
   "file_extension": ".py",
   "mimetype": "text/x-python",
   "name": "python",
   "nbconvert_exporter": "python",
   "pygments_lexer": "ipython3",
   "version": "3.6.6"
  }
 },
 "nbformat": 4,
 "nbformat_minor": 2
}
