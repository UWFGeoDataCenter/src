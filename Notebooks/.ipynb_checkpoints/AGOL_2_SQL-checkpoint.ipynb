{
 "cells": [
  {
   "cell_type": "code",
   "execution_count": 110,
   "metadata": {},
   "outputs": [],
   "source": [
    "############################################################################################################################\n",
    "## Script: AGOL_2_SQL.py\n",
    "## Author: Jeremy Mullins, Derek Morgan\n",
    "## Date:\n",
    "##\n",
    "## Description:\n",
    "##        This script is the test script for importing a AGOL feature layer into MS SQL as a table.\n",
    "##\n",
    "## Required prerequisites:\n",
    "##        - ArcGIS API for Python\n",
    "##            (https://developers.arcgis.com/python/)\n",
    "##\n",
    "##        - pyodbc Module\n",
    "##            (https://github.com/mkleehammer/pyodbc)\n",
    "##                to install after download, open Python command prompt and type the following:\n",
    "##                    -- pip install pyodbc --\n",
    "##\n",
    "##        - MS ODBC Driver for SQL Server (v17)\n",
    "##            (https://docs.microsoft.com/en-us/sql/connect/odbc/download-odbc-driver-for-sql-server?view=sql-server-2017)\n",
    "##\n",
    "##        - Storing credentials locally\n",
    "##            (https://developers.arcgis.com/python/guide/working-with-different-authentication-schemes/)\n",
    "############################################################################################################################"
   ]
  },
  {
   "cell_type": "code",
   "execution_count": 218,
   "metadata": {},
   "outputs": [],
   "source": [
    "# import all necessary modules\n",
    "from arcgis.gis import GIS\n",
    "import os\n",
    "import pyodbc as sql\n",
    "import zipfile as zf\n",
    "import datetime as dt"
   ]
  },
  {
   "cell_type": "code",
   "execution_count": 219,
   "metadata": {},
   "outputs": [],
   "source": [
    "# connect to ArcGIS Online Account\n",
    "gis = GIS(profile='jwm35')"
   ]
  },
  {
   "cell_type": "code",
   "execution_count": 225,
   "metadata": {},
   "outputs": [
    {
     "name": "stdout",
     "output_type": "stream",
     "text": [
      "Not Updated.\n"
     ]
    }
   ],
   "source": [
    "# get feature layer in question\n",
    "uwfBuildings = gis.content.get('ea0c379c597c409e843939710add43f2')\n",
    "\n",
    "# get current time and an hour ago\n",
    "now = dt.datetime.now()\n",
    "then = now - dt.timedelta(seconds=(3600))\n",
    "then_ts = dt.datetime.timestamp(then)*1000\n",
    "\n",
    "# verify new records within the last hour\n",
    "if uwfBuildings.modified > then_ts:\n",
    "    print (uwfBuildings.modified, then_ts)\n",
    "    print (\"Recently Updated.\")\n",
    "else:\n",
    "    print (\"Not Updated.\")"
   ]
  },
  {
   "cell_type": "code",
   "execution_count": 175,
   "metadata": {},
   "outputs": [
    {
     "data": {
      "text/plain": [
       "'W:\\\\src\\\\uwfbuildings.zip'"
      ]
     },
     "execution_count": 175,
     "metadata": {},
     "output_type": "execute_result"
    }
   ],
   "source": [
    "# export feature layer into CSV and save locally as ZIP file\n",
    "output_file = uwf_buildings.export(title='uwfbuildings', export_format=\"CSV\")\n",
    "output_file.download(r'W:\\src')"
   ]
  },
  {
   "cell_type": "code",
   "execution_count": 177,
   "metadata": {},
   "outputs": [
    {
     "data": {
      "text/plain": [
       "True"
      ]
     },
     "execution_count": 177,
     "metadata": {},
     "output_type": "execute_result"
    }
   ],
   "source": [
    "# extract ZIP to local folder and delete ZIP file\n",
    "with zf.ZipFile(r'W:\\src\\uwfbuildings.zip','r') as zip_ref:\n",
    "    zip_ref.extractall(r'W:\\src')\n",
    "zip_ref.close\n",
    "\n",
    "# delete ZIP folder from local machine and delete CSV collection created in AGOL\n",
    "os.remove(r'W:\\src\\uwfbuildings.zip')\n",
    "output_file.delete()"
   ]
  },
  {
   "cell_type": "code",
   "execution_count": 31,
   "metadata": {},
   "outputs": [],
   "source": [
    "# import CSV into SQL database as view\n",
    "con = sql.connect(r'DRIVER={ODBC Driver 17 for SQL Server};SERVER=MINASTIRITH;DATABASE=src;Trusted_Connection=yes;')\n",
    "cur = con.cursor()"
   ]
  },
  {
   "cell_type": "code",
   "execution_count": null,
   "metadata": {},
   "outputs": [],
   "source": []
  }
 ],
 "metadata": {
  "kernelspec": {
   "display_name": "Python 3",
   "language": "python",
   "name": "python3"
  },
  "language_info": {
   "codemirror_mode": {
    "name": "ipython",
    "version": 3
   },
   "file_extension": ".py",
   "mimetype": "text/x-python",
   "name": "python",
   "nbconvert_exporter": "python",
   "pygments_lexer": "ipython3",
   "version": "3.6.6"
  }
 },
 "nbformat": 4,
 "nbformat_minor": 2
}
