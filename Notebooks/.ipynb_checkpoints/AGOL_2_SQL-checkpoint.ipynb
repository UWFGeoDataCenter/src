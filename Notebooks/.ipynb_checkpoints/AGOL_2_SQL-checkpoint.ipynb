{
 "cells": [
  {
   "cell_type": "code",
   "execution_count": 110,
   "metadata": {},
   "outputs": [],
   "source": [
    "##########################################################\n",
    "## Script: AGOL_2_SQL.py\n",
    "## Author: Jeremy Mullins, Derek Morgan\n",
    "## Date:\n",
    "## Description:\n",
    "##        This script is the test script for importing a\n",
    "##        AGOL feature layer into MS SQL\n",
    "## Required prerequisites:\n",
    "##        - ArcGIS API for Python\n",
    "##            (https://developers.arcgis.com/python/)\n",
    "##        - pyodbc Module\n",
    "##            (https://github.com/mkleehammer/pyodbc)\n",
    "##            to install after download, open Python\n",
    "##            command prompt and type the following:\n",
    "##                -- pip install pyodbc --\n",
    "##        - MS ODBC Driver for SQL Server (v17)\n",
    "##            (https://docs.microsoft.com/en-us/sql/\n",
    "##             connect/odbc/download-odbc-driver-for\n",
    "##             -sql-server?view=sql-server-2017)\n",
    "##########################################################"
   ]
  },
  {
   "cell_type": "code",
   "execution_count": 111,
   "metadata": {},
   "outputs": [],
   "source": [
    "# import all necessary modules\n",
    "from arcgis.gis import GIS\n",
    "import os\n",
    "import pyodbc\n",
    "import zipfile"
   ]
  },
  {
   "cell_type": "code",
   "execution_count": 112,
   "metadata": {},
   "outputs": [],
   "source": [
    "# connect to ArcGIS Online Account\n",
    "gis = GIS(profile='jwm35')"
   ]
  },
  {
   "cell_type": "code",
   "execution_count": 113,
   "metadata": {},
   "outputs": [],
   "source": [
    "# get feature layer in question\n",
    "uwf_buildings = gis.content.get('ea0c379c597c409e843939710add43f2')\n",
    "uwf_layers = uwf_buildings.layers\n",
    "uwf_build = uwf_layers[0]"
   ]
  },
  {
   "cell_type": "code",
   "execution_count": 114,
   "metadata": {},
   "outputs": [
    {
     "data": {
      "text/plain": [
       "'W:\\\\src\\\\uwfbuildings.zip'"
      ]
     },
     "execution_count": 114,
     "metadata": {},
     "output_type": "execute_result"
    }
   ],
   "source": [
    "# export feature layer into CSV and save locally as ZIP file\n",
    "output_file = uwf_buildings.export(title='uwfbuildings', export_format=\"CSV\")\n",
    "output_file.download(r'W:\\src')"
   ]
  },
  {
   "cell_type": "code",
   "execution_count": 115,
   "metadata": {},
   "outputs": [],
   "source": [
    "# extract ZIP to local folder and delete ZIP file\n",
    "with zipfile.ZipFile(r'W:\\src\\uwfbuildings.zip','r') as zip_ref:\n",
    "    zip_ref.extractall(r'W:\\src')\n",
    "zip_ref.close\n",
    "os.remove(r'W:\\src\\uwfbuildings.zip')"
   ]
  },
  {
   "cell_type": "code",
   "execution_count": 116,
   "metadata": {},
   "outputs": [],
   "source": [
    "# import CSV into SQL database as view\n",
    "con = pyodbc.connect(r'DRIVER={ODBC Driver 17 for SQL Server};SERVER=MINASTIRITH;DATABASE=src;Trusted_Connection=yes;')\n",
    "cur = con.cursor()"
   ]
  },
  {
   "cell_type": "code",
   "execution_count": null,
   "metadata": {},
   "outputs": [],
   "source": []
  }
 ],
 "metadata": {
  "kernelspec": {
   "display_name": "Python 3",
   "language": "python",
   "name": "python3"
  },
  "language_info": {
   "codemirror_mode": {
    "name": "ipython",
    "version": 3
   },
   "file_extension": ".py",
   "mimetype": "text/x-python",
   "name": "python",
   "nbconvert_exporter": "python",
   "pygments_lexer": "ipython3",
   "version": "3.6.6"
  }
 },
 "nbformat": 4,
 "nbformat_minor": 2
}
