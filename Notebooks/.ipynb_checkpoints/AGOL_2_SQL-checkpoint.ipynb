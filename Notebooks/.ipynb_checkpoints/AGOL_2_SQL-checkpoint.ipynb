{
 "cells": [
  {
   "cell_type": "code",
   "execution_count": 1,
   "metadata": {},
   "outputs": [],
   "source": [
    "############################################################################################################################\n",
    "## Script: AGOL_2_SQL.py\n",
    "## Author: Jeremy Mullins, Derek Morgan\n",
    "## Date:\n",
    "##\n",
    "## Description:\n",
    "##        This script is the test script for importing a AGOL feature layer into MS SQL as a table.\n",
    "##\n",
    "## Required prerequisites:\n",
    "##        - ArcGIS API for Python\n",
    "##            (https://developers.arcgis.com/python/)\n",
    "##\n",
    "##        - pyodbc Module\n",
    "##            (https://github.com/mkleehammer/pyodbc)\n",
    "##                to install after download, open Python command prompt and type the following:\n",
    "##                    -- conda install pyodbc  --\n",
    "##\n",
    "##        - MS ODBC Driver for SQL Server (v17)\n",
    "##            (https://docs.microsoft.com/en-us/sql/connect/odbc/download-odbc-driver-for-sql-server?view=sql-server-2017)\n",
    "##\n",
    "##        - Storing credentials locally\n",
    "##            (https://developers.arcgis.com/python/guide/working-with-different-authentication-schemes/)\n",
    "############################################################################################################################"
   ]
  },
  {
   "cell_type": "code",
   "execution_count": 1,
   "metadata": {},
   "outputs": [],
   "source": [
    "# import all necessary modules\n",
    "from arcgis.gis import GIS\n",
    "\n",
    "import os\n",
    "import pyodbc as sql\n",
    "import zipfile \n",
    "import datetime as dt\n",
    "import arcpy"
   ]
  },
  {
   "cell_type": "code",
   "execution_count": 11,
   "metadata": {},
   "outputs": [
    {
     "ename": "NameError",
     "evalue": "name 'os' is not defined",
     "output_type": "error",
     "traceback": [
      "\u001b[1;31m---------------------------------------------------------------------------\u001b[0m",
      "\u001b[1;31mNameError\u001b[0m                                 Traceback (most recent call last)",
      "\u001b[1;32m<ipython-input-11-dcb2d266cce4>\u001b[0m in \u001b[0;36m<module>\u001b[1;34m\u001b[0m\n\u001b[0;32m      4\u001b[0m \u001b[1;31m#Note: if you are running a windows user that doesn't have access to\u001b[0m\u001b[1;33m\u001b[0m\u001b[1;33m\u001b[0m\u001b[1;33m\u001b[0m\u001b[0m\n\u001b[0;32m      5\u001b[0m \u001b[1;31m#the windows profile, then you will not be able to use this method\u001b[0m\u001b[1;33m\u001b[0m\u001b[1;33m\u001b[0m\u001b[1;33m\u001b[0m\u001b[0m\n\u001b[1;32m----> 6\u001b[1;33m \u001b[0mos\u001b[0m\u001b[1;33m.\u001b[0m\u001b[0menviron\u001b[0m\u001b[1;33m[\u001b[0m\u001b[1;34m'HOME'\u001b[0m\u001b[1;33m]\u001b[0m\u001b[1;33m\u001b[0m\u001b[1;33m\u001b[0m\u001b[0m\n\u001b[0m\u001b[0;32m      7\u001b[0m \u001b[1;31m#Does the windows user current logged in have access?\u001b[0m\u001b[1;33m\u001b[0m\u001b[1;33m\u001b[0m\u001b[1;33m\u001b[0m\u001b[0m\n\u001b[0;32m      8\u001b[0m \u001b[1;31m#Also, good idea to set the workspace:\u001b[0m\u001b[1;33m\u001b[0m\u001b[1;33m\u001b[0m\u001b[1;33m\u001b[0m\u001b[0m\n",
      "\u001b[1;31mNameError\u001b[0m: name 'os' is not defined"
     ]
    }
   ],
   "source": [
    "#The method described by Esri relies \n",
    "#on storing a an unencrypted config file named .arcgisprofile \n",
    "#on a \"home directory\". But where is the home directory\n",
    "#Note: if you are running a windows user that doesn't have access to \n",
    "#the windows profile, then you will not be able to use this method\n",
    "os.environ['HOME']\n",
    "#Does the windows user current logged in have access?\n",
    "#Also, good idea to set the workspace:\n",
    "arcpy.env.workspace = \"C:/Data/PhD/Projects/SRC/src\"\n",
    "os.chdir('C:\\\\Data\\\\PhD\\\\Projects\\\\SRC\\\\src')"
   ]
  },
  {
   "cell_type": "code",
   "execution_count": 4,
   "metadata": {},
   "outputs": [],
   "source": [
    "afile = open(\"../auth_file.config\", \"r\")\n",
    "for line in afile:\n",
    "    pieces = line.split(\",\")\n",
    "    agol_url  = pieces[0]\n",
    "    agol_user = pieces[1]\n",
    "    agol_pass = pieces[2]"
   ]
  },
  {
   "cell_type": "code",
   "execution_count": 5,
   "metadata": {},
   "outputs": [
    {
     "data": {
      "text/html": [
       "<div class=\"item_container\" style=\"height: auto; overflow: hidden; border: 1px solid #cfcfcf; border-radius: 2px; background: #f6fafa; line-height: 1.21429em; padding: 10px;\">\n",
       "                    <div class=\"item_left\" style=\"width: 210px; float: left;\">\n",
       "                       <a href='http://pns.maps.arcgis.com/home/item.html?id=ea0c379c597c409e843939710add43f2' target='_blank'>\n",
       "                        <img src='data:image/png;base64,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' width='200' height='133' class=\"itemThumbnail\">\n",
       "                       </a>\n",
       "                    </div>\n",
       "\n",
       "                    <div class=\"item_right\"     style=\"float: none; width: auto; overflow: hidden;\">\n",
       "                        <a href='http://pns.maps.arcgis.com/home/item.html?id=ea0c379c597c409e843939710add43f2' target='_blank'><b>UWF_Buildings</b>\n",
       "                        </a>\n",
       "                        <br/>The buildings of UWF, including identifying information and some pictures.<img src='http://pns.maps.arcgis.com/home/js/jsapi/esri/css/images/item_type_icons/featureshosted16.png' style=\"vertical-align:middle;\">Feature Layer Collection by tonguecutsparrow\n",
       "                        <br/>Last Modified: April 02, 2019\n",
       "                        <br/>0 comments, 5,809 views\n",
       "                    </div>\n",
       "                </div>\n",
       "                "
      ],
      "text/plain": [
       "<Item title:\"UWF_Buildings\" type:Feature Layer Collection owner:tonguecutsparrow>"
      ]
     },
     "metadata": {},
     "output_type": "display_data"
    }
   ],
   "source": [
    "gis = GIS(agol_url, agol_user, agol_pass)\n",
    "uwfBuildings = gis.content.get('ea0c379c597c409e843939710add43f2')\n",
    "display(uwfBuildings)"
   ]
  },
  {
   "cell_type": "code",
   "execution_count": 10,
   "metadata": {},
   "outputs": [
    {
     "name": "stdout",
     "output_type": "stream",
     "text": [
      "Not Updated.\n"
     ]
    }
   ],
   "source": [
    "# get feature layer in question\n",
    "uwfBuildings = gis.content.get('ea0c379c597c409e843939710add43f2')\n",
    "\n",
    "# get current time and an hour ago\n",
    "now = dt.datetime.now()\n",
    "then = now - dt.timedelta(seconds=(3600))\n",
    "then_ts = dt.datetime.timestamp(then)*1000\n",
    "\n",
    "# verify new records within the last hour\n",
    "if uwfBuildings.modified > then_ts:\n",
    "    print (uwfBuildings.modified, then_ts)\n",
    "    print (\"Recently Updated.\")\n",
    "else:\n",
    "    print (\"Not Updated.\")"
   ]
  },
  {
   "cell_type": "code",
   "execution_count": 22,
   "metadata": {},
   "outputs": [
    {
     "data": {
      "text/plain": [
       "'C:/Data/PhD/Projects/SRC/src\\\\uwfBuildings.zip'"
      ]
     },
     "execution_count": 22,
     "metadata": {},
     "output_type": "execute_result"
    }
   ],
   "source": [
    "# export feature layer into CSV and save locally as ZIP file\n",
    "output_file = uwfBuildings.export(title='uwfBuildings',\n",
    "                                   export_format=\"CSV\")\n",
    "output_file.download(r\"C:/Data/PhD/Projects/SRC/src\")"
   ]
  },
  {
   "cell_type": "code",
   "execution_count": 2,
   "metadata": {},
   "outputs": [
    {
     "ename": "NameError",
     "evalue": "name 'zipfile' is not defined",
     "output_type": "error",
     "traceback": [
      "\u001b[1;31m---------------------------------------------------------------------------\u001b[0m",
      "\u001b[1;31mNameError\u001b[0m                                 Traceback (most recent call last)",
      "\u001b[1;32m<ipython-input-2-a9a6600753b1>\u001b[0m in \u001b[0;36m<module>\u001b[1;34m\u001b[0m\n\u001b[1;32m----> 1\u001b[1;33m \u001b[0mzip_ref\u001b[0m \u001b[1;33m=\u001b[0m \u001b[0mzipfile\u001b[0m\u001b[1;33m.\u001b[0m\u001b[0mZipFile\u001b[0m\u001b[1;33m(\u001b[0m\u001b[1;34mr\"C:/Data/PhD/Projects/SRC/src/uwfBuildings.zip\"\u001b[0m\u001b[1;33m,\u001b[0m \u001b[1;34m'r'\u001b[0m\u001b[1;33m)\u001b[0m\u001b[1;33m\u001b[0m\u001b[1;33m\u001b[0m\u001b[0m\n\u001b[0m\u001b[0;32m      2\u001b[0m \u001b[0mzip_ref\u001b[0m\u001b[1;33m.\u001b[0m\u001b[0mextractall\u001b[0m\u001b[1;33m(\u001b[0m\u001b[1;34mr\"C:/Data/PhD/Projects/SRC/src\"\u001b[0m\u001b[1;33m)\u001b[0m\u001b[1;33m\u001b[0m\u001b[1;33m\u001b[0m\u001b[0m\n\u001b[0;32m      3\u001b[0m \u001b[0mzip_ref\u001b[0m\u001b[1;33m.\u001b[0m\u001b[0mclose\u001b[0m\u001b[1;33m(\u001b[0m\u001b[1;33m)\u001b[0m\u001b[1;33m\u001b[0m\u001b[1;33m\u001b[0m\u001b[0m\n\u001b[0;32m      4\u001b[0m \u001b[0mos\u001b[0m\u001b[1;33m.\u001b[0m\u001b[0mremove\u001b[0m\u001b[1;33m(\u001b[0m\u001b[1;34mr\"C:/Data/PhD/Projects/SRC/src/uwfBuildings.zip\"\u001b[0m\u001b[1;33m)\u001b[0m\u001b[1;33m\u001b[0m\u001b[1;33m\u001b[0m\u001b[0m\n",
      "\u001b[1;31mNameError\u001b[0m: name 'zipfile' is not defined"
     ]
    }
   ],
   "source": [
    "zip_ref = zipfile.ZipFile(r\"C:/Data/PhD/Projects/SRC/src/uwfBuildings.zip\", 'r')\n",
    "zip_ref.extractall(r\"C:/Data/PhD/Projects/SRC/src\")\n",
    "zip_ref.close()\n",
    "os.remove(r\"C:/Data/PhD/Projects/SRC/src/uwfBuildings.zip\")"
   ]
  },
  {
   "cell_type": "code",
   "execution_count": 31,
   "metadata": {},
   "outputs": [],
   "source": [
    "# import CSV into SQL database as view\n",
    "con = sql.connect(r'DRIVER={ODBC Driver 17 for SQL Server};SERVER=MINASTIRITH;DATABASE=src;Trusted_Connection=yes;')\n",
    "cur = con.cursor()"
   ]
  },
  {
   "cell_type": "code",
   "execution_count": null,
   "metadata": {},
   "outputs": [],
   "source": []
  }
 ],
 "metadata": {
  "kernelspec": {
   "display_name": "Python 3",
   "language": "python",
   "name": "python3"
  },
  "language_info": {
   "codemirror_mode": {
    "name": "ipython",
    "version": 3
   },
   "file_extension": ".py",
   "mimetype": "text/x-python",
   "name": "python",
   "nbconvert_exporter": "python",
   "pygments_lexer": "ipython3",
   "version": "3.6.8"
  }
 },
 "nbformat": 4,
 "nbformat_minor": 2
}
