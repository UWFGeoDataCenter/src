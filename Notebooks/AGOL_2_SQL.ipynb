{
 "cells": [
  {
   "cell_type": "code",
   "execution_count": 1,
   "metadata": {},
   "outputs": [],
   "source": [
    "############################################################################################################################\n",
    "## Script: AGOL_2_SQL.py\n",
    "## Author: Jeremy Mullins, Derek Morgan\n",
    "## Date:\n",
    "##\n",
    "## Description:\n",
    "##        This script is the test script for importing a AGOL feature layer into MS SQL as a table.\n",
    "##\n",
    "## Required prerequisites:\n",
    "##        - ArcGIS API for Python\n",
    "##            (https://developers.arcgis.com/python/)\n",
    "##\n",
    "##        - pyodbc Module\n",
    "##            (https://github.com/mkleehammer/pyodbc)\n",
    "##                to install after download, open Python command prompt and type the following:\n",
    "##                    -- conda install pyodbc  --\n",
    "##\n",
    "##        - MS ODBC Driver for SQL Server (v17)\n",
    "##            (https://docs.microsoft.com/en-us/sql/connect/odbc/download-odbc-driver-for-sql-server?view=sql-server-2017)\n",
    "##\n",
    "##\n",
    "############################################################################################################################"
   ]
  },
  {
   "cell_type": "code",
   "execution_count": 1,
   "metadata": {},
   "outputs": [],
   "source": [
    "# import all necessary modules\n",
    "from arcgis.gis import GIS\n",
    "import os\n",
    "import configparser\n",
    "import pyodbc as sql\n",
    "import zipfile\n",
    "import arcpy\n",
    "import sys"
   ]
  },
  {
   "cell_type": "code",
   "execution_count": 2,
   "metadata": {},
   "outputs": [
    {
     "name": "stdout",
     "output_type": "stream",
     "text": [
      "C:/Data/PhD/Projects/SRC/src/Notebooks\n"
     ]
    }
   ],
   "source": [
    "#read config file\n",
    "config = configparser.ConfigParser()\n",
    "config.read('config_jdm.ini')\n",
    "\n",
    "# assign config variables\n",
    "try:\n",
    "    workSPACE = config['SCRIPT']['workSPACE']\n",
    "    print(workSPACE)\n",
    "    agolURL = config['AGOL']['URL']\n",
    "    agolUSER = config['AGOL']['USER']\n",
    "    agolPW = config['AGOL']['PW']\n",
    "    iD = config['SCRIPT']['itemID']\n",
    "    csvTITLE = config['SCRIPT']['csvTITLE']\n",
    "    csvOUT = config['SCRIPT']['csvOUTPUT']\n",
    "    zipLOC = config['SCRIPT']['zipLOC']\n",
    "    zipEXT = config['SCRIPT']['zipExLOC']\n",
    "    sqlDRVR = config['SQL']['odbcDRVR']\n",
    "    sqlSERV = config['SQL']['SERVER']\n",
    "    sqlDB = config['SQL']['DB']\n",
    "    sqlUSER = config['SQL']['USER']\n",
    "    sqlPW = config['SQL']['PW']\n",
    "except OSError as err:\n",
    "    print(\"OS error: {0}\".format(err))"
   ]
  },
  {
   "cell_type": "code",
   "execution_count": 3,
   "metadata": {},
   "outputs": [],
   "source": [
    "#set workspace(s)\n",
    "arcpy.env.workspace = workSPACE\n",
    "os.chdir(workSPACE)\n",
    "\n",
    "# sign into AGOL account\n",
    "gis = GIS(agolURL, agolUSER, agolPW)\n",
    "\n",
    "# get feature layer in question\n",
    "featureLayer = gis.content.get(iD)"
   ]
  },
  {
   "cell_type": "code",
   "execution_count": 4,
   "metadata": {},
   "outputs": [
    {
     "data": {
      "text/plain": [
       "'C:/Data/PhD/Projects/SRC/src/Notebooks\\\\test.zip'"
      ]
     },
     "execution_count": 4,
     "metadata": {},
     "output_type": "execute_result"
    }
   ],
   "source": [
    "# export feature layer into CSV and save locally as ZIP file\n",
    "output_file = featureLayer.export(title=csvTITLE,\n",
    "                                   export_format=\"CSV\")\n",
    "output_file.download(csvOUT)"
   ]
  },
  {
   "cell_type": "code",
   "execution_count": 5,
   "metadata": {},
   "outputs": [
    {
     "data": {
      "text/plain": [
       "True"
      ]
     },
     "execution_count": 5,
     "metadata": {},
     "output_type": "execute_result"
    }
   ],
   "source": [
    "# unzip downloaded feature layer data\n",
    "zip_ref = zipfile.ZipFile(zipLOC, 'r')\n",
    "zip_ref.extractall(zipEXT)\n",
    "zip_ref.close()\n",
    "\n",
    "# remove excess files\n",
    "os.remove(zipLOC)\n",
    "output_file.delete()"
   ]
  },
  {
   "cell_type": "code",
   "execution_count": 7,
   "metadata": {},
   "outputs": [
    {
     "name": "stdout",
     "output_type": "stream",
     "text": [
      "(1, )\n",
      "(3, )\n",
      "(6, )\n"
     ]
    }
   ],
   "source": [
    "#https://datatofish.com/how-to-connect-python-to-sql-server-using-pyodbc/\n",
    "# import CSV into SQL database as view\n",
    "conn = sql.connect(\"Driver={SQL Server};\"\n",
    "                      \"Server=\"+sqlSERV+\";\"\n",
    "                      \"Database=\"+sqlDB+\";\"\n",
    "                      \"trusted_connection=yes;\"\n",
    "                      \"UID=\"+sqlUSER+\";\"\n",
    "                      \"PWD=\"+sqlPW+\";\")\n",
    "\n",
    "cursor = conn.cursor()\n",
    "cursor.execute('SELECT * FROM [dbo].[test_table]')\n",
    "for row in cursor:\n",
    "    print(row)"
   ]
  },
  {
   "cell_type": "code",
   "execution_count": null,
   "metadata": {},
   "outputs": [],
   "source": []
  }
 ],
 "metadata": {
  "kernelspec": {
   "display_name": "Python 3",
   "language": "python",
   "name": "python3"
  },
  "language_info": {
   "codemirror_mode": {
    "name": "ipython",
    "version": 3
   },
   "file_extension": ".py",
   "mimetype": "text/x-python",
   "name": "python",
   "nbconvert_exporter": "python",
   "pygments_lexer": "ipython3",
   "version": "3.6.8"
  }
 },
 "nbformat": 4,
 "nbformat_minor": 2
}
