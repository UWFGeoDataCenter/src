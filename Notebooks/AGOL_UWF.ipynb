{
 "cells": [
  {
   "cell_type": "code",
   "execution_count": 10,
   "metadata": {},
   "outputs": [],
   "source": [
    "from arcgis.gis import GIS\n",
    "from IPython.display import display"
   ]
  },
  {
   "cell_type": "code",
   "execution_count": 11,
   "metadata": {},
   "outputs": [],
   "source": [
    "gis = GIS(profile='jwm35')"
   ]
  },
  {
   "cell_type": "code",
   "execution_count": 13,
   "metadata": {},
   "outputs": [
    {
     "data": {
      "text/plain": [
       "arcgis.gis.ContentManager"
      ]
     },
     "execution_count": 13,
     "metadata": {},
     "output_type": "execute_result"
    }
   ],
   "source": [
    "type(gis.content)"
   ]
  },
  {
   "cell_type": "code",
   "execution_count": 20,
   "metadata": {},
   "outputs": [
    {
     "data": {
      "text/plain": [
       "[<Item title:\"MSASiteDataTest\" type:Feature Layer Collection owner:ljeudevine1>]"
      ]
     },
     "execution_count": 20,
     "metadata": {},
     "output_type": "execute_result"
    }
   ],
   "source": [
    "search_result = gis.content.search(query=\"MSASiteDataTest\", item_type=\"Feature Layer\")\n",
    "search_result"
   ]
  },
  {
   "cell_type": "code",
   "execution_count": 21,
   "metadata": {},
   "outputs": [
    {
     "data": {
      "text/html": [
       "<div class=\"item_container\" style=\"height: auto; overflow: hidden; border: 1px solid #cfcfcf; border-radius: 2px; background: #f6fafa; line-height: 1.21429em; padding: 10px;\">\n",
       "                    <div class=\"item_left\" style=\"width: 210px; float: left;\">\n",
       "                       <a href='http://pns.maps.arcgis.com/home/item.html?id=12a83d588e1f4e1e8a50e6dea387b2d7' target='_blank'>\n",
       "                        <img src='data:image/png;base64,iVBORw0KGgoAAAANSUhEUgAAAMgAAACFCAIAAACR/CB7AAAACXBIWXMAAAAnAAAAJwEqCZFPAAAER0lEQVR4nO3d309TZxzH8e+hP+j4ocV2IFZNRqAQZyALeCFLdreE+4X/YH/W/oIlemtkd8uGNzVWE4ciaCg61lFmoQXlHNqzi5p5Q7Jk+OE55+z9uuL06gt953meEOjjhWFowKfW53oAJFPa9QD/3eu9o/vVWjsIzGwom12au1YqDLgeCh94Md0KtxuHdyovp6fynpmZhWbrG/vLCxNXaCsa4roVrlRr01N53++sVuqrlbrvd8qTF+89rrmeCx/EdStsnQSe2cMnjbXNZu+VxYWx1rHvdir8I64rlp26g3veuc+B08V1xRpIZ0Oz+dli73F+thiaDWfi+u0kT1wP71u77buVVzPlj4f35y+ay7cmSoVBx5PBzOIblpnVdtsr1e32SWDmDWXTS3PXrxapKipiHBaiLLaHd0QbYUGCsCBBWJAgLEgQFiQICxKEBQnCggRhQYKwIEFYkCAsSBAWJAgLEoQFCcKCBGFBgrAgQViQICxIEBYkCAsShAUJwoIEYUGCsCBBWJAgLEgQFiQICxKEBQnCggRhQYKwIEFYkCAsSBAWJAgLEoQFCcKCBGFBgrAgQViQICxIEBYkCAsShAUJwoIEYUGCsCBBWJAgLEgQFiQICxKEBQnCggRhQYKwIEFYkCAsSBAWJNKuB4CZ2eu9o/vVWjsIzGwom12au1YqDLge6ky8MAxdz/B/t904vFN5OT2V98zMLDRb39hfXpi4Eue22ArdW6nWpqfyvt9ZrdRXK3Xf75QnL957XHM915mwFbrXOgk8s4dPGmubzd4riwtjrWPf7VRnxIoVAaeeRjzv3Of4lFix3BtIZ0Oz+dli73F+thiaDWfi/dZweHdva7d9t/Jqpvzx8P78RXP51kSpMOh4sjMgrEio7bZXqtvtk8DMG8qml+auXy3GuCojLIhweIcEYUGCsCBBWJAgLEgQFiQICxKEBQnCggRhQYKwIEFYkCAsSBAWJAgLEoQFCcKCBGFBgrAgQViQICxIEBYkCAsShAWJeH9AQFx0Q/v16c6bt0dmVro0+PWNy33x/siPf8d/Qssdn3R/+GlttPTZ8GDGzFqHQePN+++/ncmkk7xdEJbcj79s5orpTKZvp35kZuNjA0HQDf7qfrf4hevRhNgK5erto6nx/G/rbx88+tPMbn81eqM8stU6cD2XVpJX44johF0z+6PxrvfY+6LTTfhGQVhy6b6Umd0sj+T6U7n+1M3yiJn1p1Ku59LijCX389OdrcP254Vc7yfteba7937ywvDtmcuuRxNixZL75svxS339zzabBy3/oOU/22yOpnPJrspYsc5N612w8fu+mTdZujCcy7geR46wIMFWCAnCggRhQYKwIEFYkCAsSBAWJPjrhghJ0j2r/II0KhJ2zypbYVQk7J5VtsKoSNg9q6xYkZGse1ZZsaIiYfescniPioTds0pYEZKke1YJCxIc3iHxN6U3YYehjN1SAAAAAElFTkSuQmCC' width='200' height='133' class=\"itemThumbnail\">\n",
       "                       </a>\n",
       "                    </div>\n",
       "\n",
       "                    <div class=\"item_right\"     style=\"float: none; width: auto; overflow: hidden;\">\n",
       "                        <a href='http://pns.maps.arcgis.com/home/item.html?id=12a83d588e1f4e1e8a50e6dea387b2d7' target='_blank'><b>MSASiteDataTest</b>\n",
       "                        </a>\n",
       "                        <br/>test for survey123 publish<img src='http://pns.maps.arcgis.com/home/js/jsapi/esri/css/images/item_type_icons/featureshosted16.png' style=\"vertical-align:middle;\">Feature Layer Collection by ljeudevine1\n",
       "                        <br/>Last Modified: March 21, 2019\n",
       "                        <br/>0 comments, 0 views\n",
       "                    </div>\n",
       "                </div>\n",
       "                "
      ],
      "text/plain": [
       "<Item title:\"MSASiteDataTest\" type:Feature Layer Collection owner:ljeudevine1>"
      ]
     },
     "metadata": {},
     "output_type": "display_data"
    }
   ],
   "source": [
    "for item in search_result:\n",
    "    display(item)"
   ]
  },
  {
   "cell_type": "code",
   "execution_count": null,
   "metadata": {},
   "outputs": [],
   "source": []
  }
 ],
 "metadata": {
  "kernelspec": {
   "display_name": "Python 3",
   "language": "python",
   "name": "python3"
  },
  "language_info": {
   "codemirror_mode": {
    "name": "ipython",
    "version": 3
   },
   "file_extension": ".py",
   "mimetype": "text/x-python",
   "name": "python",
   "nbconvert_exporter": "python",
   "pygments_lexer": "ipython3",
   "version": "3.6.6"
  }
 },
 "nbformat": 4,
 "nbformat_minor": 2
}
